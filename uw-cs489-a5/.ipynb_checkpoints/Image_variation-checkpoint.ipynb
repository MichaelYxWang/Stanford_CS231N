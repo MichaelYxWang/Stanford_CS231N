{
 "cells": [
  {
   "cell_type": "code",
   "execution_count": 65,
   "metadata": {},
   "outputs": [],
   "source": [
    "# Set up for the project\n",
    "from __future__ import print_function\n",
    "import keras\n",
    "from keras.models import Sequential\n",
    "from keras.layers import Dense, Activation, Flatten, Dropout\n",
    "from keras.layers import Conv2D, MaxPooling2D\n",
    "from keras.datasets import mnist\n",
    "from keras import backend as K\n",
    "\n",
    "import numpy as np\n",
    "import random\n",
    "import matplotlib.pyplot as plt\n",
    "%matplotlib inline\n",
    "from scipy.misc import imresize\n",
    "from PIL import Image\n",
    "from PIL import ImageFilter\n",
    "\n",
    "import os\n",
    "project_dir = os.getcwd()\n",
    "model_dir = project_dir + \"/models/\"\n",
    "vgg_model_loc = model_dir + \"vgg11.h5\""
   ]
  },
  {
   "cell_type": "code",
   "execution_count": 30,
   "metadata": {},
   "outputs": [
    {
     "name": "stdout",
     "output_type": "stream",
     "text": [
      "Training data shape:  (60000, 28, 28)\n",
      "Training labels shape:  (60000,)\n",
      "Testing data shape:  (10000, 28, 28)\n",
      "Test labels shape:  (10000,)\n"
     ]
    }
   ],
   "source": [
    "# Get the original dimension of dataset\n",
    "(X_train_orig, Y_train), (X_test_orig, Y_test) = mnist.load_data()\n",
    "print(\"Training data shape: \", X_train_orig.shape)\n",
    "print(\"Training labels shape: \", Y_train.shape)\n",
    "print(\"Testing data shape: \", X_test_orig.shape)\n",
    "print(\"Test labels shape: \", Y_test.shape)"
   ]
  },
  {
   "cell_type": "code",
   "execution_count": 31,
   "metadata": {},
   "outputs": [
    {
     "name": "stdout",
     "output_type": "stream",
     "text": [
      "The two randomly-chosen numbers are: 5147 1212\n",
      "The size of the 2 randomly-chosen images are:  (32, 32) (32, 32)\n"
     ]
    },
    {
     "data": {
      "image/png": "[encoded data removed]",
      "text/plain": [
       "<matplotlib.figure.Figure at 0x104314fd0>"
      ]
     },
     "metadata": {},
     "output_type": "display_data"
    }
   ],
   "source": [
    "# Resize all images in test set\n",
    "num_test = 10000\n",
    "X_test = np.zeros((num_test,32,32))\n",
    "for j in range(num_test):\n",
    "    X_test[j] = imresize(X_test_orig[j],(32,32))\n",
    "\n",
    "# Test with some random images\n",
    "a = random.randint(0,num_test)\n",
    "b = random.randint(0,num_test)\n",
    "plt.subplot(221)\n",
    "plt.imshow(X_test[a], cmap=plt.get_cmap('gray'))\n",
    "plt.subplot(222)\n",
    "plt.imshow(X_test[b], cmap=plt.get_cmap('gray'))\n",
    "\n",
    "print(\"The two randomly-chosen numbers are:\", a,b)\n",
    "print(\"The size of the 2 randomly-chosen images are: \",X_test[a].shape, X_test[b].shape)                                                    "
   ]
  },
  {
   "cell_type": "code",
   "execution_count": 50,
   "metadata": {},
   "outputs": [
    {
     "name": "stdout",
     "output_type": "stream",
     "text": [
      "The shapes of one test images are: (32, 32) (32, 32)\n",
      "The shape of the new numpy arrays are (32, 32) (32, 32)\n"
     ]
    },
    {
     "data": {
      "image/png": "[encoded data removed]",
      "text/plain": [
       "<matplotlib.figure.Figure at 0x12b5cf198>"
      ]
     },
     "metadata": {},
     "output_type": "display_data"
    }
   ],
   "source": [
    "# Test bidirectional transformation: numpy array-->PIL image and PIL image-->numpy array\n",
    "print(\"The shapes of one test images are:\", X_test[0].shape, X_test[1].shape)\n",
    "img_rot = Image.fromarray(X_test[0])\n",
    "img_blur = Image.fromarray(X_test[0],mode='L')\n",
    "\n",
    "img_rot = img_rot.rotate(180)\n",
    "img_blur = img_blur.filter(ImageFilter.GaussianBlur(radius=3))\n",
    "\n",
    "plt.subplot(211)\n",
    "plt.imshow(img_rot)\n",
    "plt.subplot(212)\n",
    "plt.imshow(img_blur)\n",
    "\n",
    "new_array_rot = np.array(img_rot)\n",
    "new_array_blur = np.array(img_blur)\n",
    "print(\"The shape of the new numpy arrays are\", new_array_rot.shape,new_array_blur.shape)"
   ]
  },
  {
   "cell_type": "code",
   "execution_count": 25,
   "metadata": {
    "collapsed": true
   },
   "outputs": [],
   "source": [
    "# Build the functionality for batch rotating all images from the test set\n",
    "def rotate_testset(degree):\n",
    "    new_testset = np.zeros((num_test,32,32))\n",
    "    for i in range(num_test):\n",
    "        img = Image.fromarray(X_test[i])\n",
    "        img = img.rotate(degree)\n",
    "        new_testset[i] = np.array(img)\n",
    "    return new_testset  "
   ]
  },
  {
   "cell_type": "code",
   "execution_count": 55,
   "metadata": {},
   "outputs": [
    {
     "name": "stdout",
     "output_type": "stream",
     "text": [
      "(10000, 32, 32)\n"
     ]
    },
    {
     "data": {
      "text/plain": [
       "<matplotlib.image.AxesImage at 0x1215adef0>"
      ]
     },
     "execution_count": 55,
     "metadata": {},
     "output_type": "execute_result"
    },
    {
     "data": {
      "image/png": "[encoded data removed]",
      "text/plain": [
       "<matplotlib.figure.Figure at 0x104bb6d68>"
      ]
     },
     "metadata": {},
     "output_type": "display_data"
    }
   ],
   "source": [
    "# Test for batch rotating functionality\n",
    "X_test_ninty = rotate_testset(90)\n",
    "print(X_test_ninty.shape)\n",
    "a = random.randint(0,num_test)\n",
    "plt.imshow(X_test_ninty[a], cmap=plt.get_cmap('gray'))"
   ]
  },
  {
   "cell_type": "code",
   "execution_count": 56,
   "metadata": {
    "collapsed": true
   },
   "outputs": [],
   "source": [
    "# Build the functionality for batch GaussianBlur all images from the test set\n",
    "def gaussianblur_testset(radius):\n",
    "    new_testset = np.zeros((num_test,32,32))\n",
    "    for i in range(num_test):\n",
    "        img = Image.fromarray(X_test[i],mode='L')\n",
    "        img = img.filter(ImageFilter.GaussianBlur(radius))\n",
    "        new_testset[i] = np.array(img)\n",
    "    return new_testset  "
   ]
  },
  {
   "cell_type": "code",
   "execution_count": 57,
   "metadata": {},
   "outputs": [
    {
     "name": "stdout",
     "output_type": "stream",
     "text": [
      "(10000, 32, 32)\n"
     ]
    },
    {
     "data": {
      "text/plain": [
       "<matplotlib.image.AxesImage at 0x12b836ef0>"
      ]
     },
     "execution_count": 57,
     "metadata": {},
     "output_type": "execute_result"
    },
    {
     "data": {
      "image/png": "[encoded data removed]",
      "text/plain": [
       "<matplotlib.figure.Figure at 0x11c2e86d8>"
      ]
     },
     "metadata": {},
     "output_type": "display_data"
    }
   ],
   "source": [
    "# Test for batch GaussianBlur functionality\n",
    "X_test_radius_three = gaussianblur_testset(3)\n",
    "print(X_test_radius_three.shape)\n",
    "a = random.randint(0,num_test)\n",
    "plt.imshow(X_test_radius_three[a], cmap=plt.get_cmap('gray'))"
   ]
  },
  {
   "cell_type": "code",
   "execution_count": null,
   "metadata": {},
   "outputs": [],
   "source": [
    "rotation_range = list(range(-45,50,5))\n",
    "radius_range = list(range(7))\n",
    "\n",
    "rotation_results = {}\n",
    "radius_results = {}\n",
    "\n",
    "for current_rt in rotation_range:\n",
    "    # TODO: \n",
    "    # 1. Load the pre-trained model \n",
    "    # 2. Generate the corresponding test set\n",
    "    # 3. Fit the test set in and get test accuracy\n",
    "    # 4. rotation_results[str(rotation)] = accuracy"
   ]
  },
  {
   "cell_type": "code",
   "execution_count": null,
   "metadata": {
    "collapsed": true
   },
   "outputs": [],
   "source": []
  }
 ],
 "metadata": {
  "kernelspec": {
   "display_name": "Python 3",
   "language": "python",
   "name": "python3"
  },
  "language_info": {
   "codemirror_mode": {
    "name": "ipython",
    "version": 3
   },
   "file_extension": ".py",
   "mimetype": "text/x-python",
   "name": "python",
   "nbconvert_exporter": "python",
   "pygments_lexer": "ipython3",
   "version": "3.6.1"
  }
 },
 "nbformat": 4,
 "nbformat_minor": 2
}
