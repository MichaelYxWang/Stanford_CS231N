{
 "cells": [
  {
   "cell_type": "code",
   "execution_count": 1,
   "metadata": {},
   "outputs": [
    {
     "name": "stderr",
     "output_type": "stream",
     "text": [
      "Using TensorFlow backend.\n"
     ]
    }
   ],
   "source": [
    "# Set up for the project\n",
    "from __future__ import print_function\n",
    "import keras\n",
    "from keras.models import Sequential\n",
    "from keras.layers import Dense, Activation, Flatten, Dropout\n",
    "from keras.layers import Conv2D, MaxPooling2D\n",
    "from keras.datasets import mnist\n",
    "from keras import backend as K\n",
    "from keras.models import model_from_json\n",
    "\n",
    "import numpy as np\n",
    "import random\n",
    "import matplotlib.pyplot as plt\n",
    "%matplotlib inline\n",
    "from scipy.misc import imresize\n",
    "from PIL import Image\n",
    "from PIL import ImageFilter\n",
    "\n",
    "import os\n",
    "project_dir = os.getcwd()\n",
    "model_dir = project_dir + \"/models/\"\n",
    "\n",
    "vgg_model_loc = model_dir + \"vgg11.h5\"\n",
    "vgg_json_loc = model_dir + \"vgg11.json\""
   ]
  },
  {
   "cell_type": "code",
   "execution_count": 2,
   "metadata": {},
   "outputs": [
    {
     "name": "stdout",
     "output_type": "stream",
     "text": [
      "Training data shape:  (60000, 28, 28)\n",
      "Training labels shape:  (60000,)\n",
      "Testing data shape:  (10000, 28, 28)\n",
      "Test labels shape:  (10000,)\n"
     ]
    }
   ],
   "source": [
    "# Get the original dimension of dataset\n",
    "(X_train_orig, Y_train), (X_test_orig, Y_test) = mnist.load_data()\n",
    "print(\"Training data shape: \", X_train_orig.shape)\n",
    "print(\"Training labels shape: \", Y_train.shape)\n",
    "print(\"Testing data shape: \", X_test_orig.shape)\n",
    "print(\"Test labels shape: \", Y_test.shape)"
   ]
  },
  {
   "cell_type": "code",
   "execution_count": 3,
   "metadata": {},
   "outputs": [
    {
     "name": "stdout",
     "output_type": "stream",
     "text": [
      "The two randomly-chosen numbers are: 4975 2798\n",
      "The size of the 2 randomly-chosen images are:  (32, 32) (32, 32)\n"
     ]
    },
    {
     "data": {
      "image/png": "[encoded data removed]",
      "text/plain": [
       "<matplotlib.figure.Figure at 0x1059fbc50>"
      ]
     },
     "metadata": {},
     "output_type": "display_data"
    }
   ],
   "source": [
    "# Resize all images in test set\n",
    "num_test = 10000\n",
    "X_test = np.zeros((num_test,32,32))\n",
    "for j in range(num_test):\n",
    "    X_test[j] = imresize(X_test_orig[j],(32,32))\n",
    "\n",
    "# Test with some random images\n",
    "a = random.randint(0,num_test)\n",
    "b = random.randint(0,num_test)\n",
    "plt.subplot(221)\n",
    "plt.imshow(X_test[a], cmap=plt.get_cmap('gray'))\n",
    "plt.subplot(222)\n",
    "plt.imshow(X_test[b], cmap=plt.get_cmap('gray'))\n",
    "\n",
    "print(\"The two randomly-chosen numbers are:\", a,b)\n",
    "print(\"The size of the 2 randomly-chosen images are: \",X_test[a].shape, X_test[b].shape)                                                    "
   ]
  },
  {
   "cell_type": "code",
   "execution_count": 4,
   "metadata": {},
   "outputs": [],
   "source": [
    "# Preprocessing: reshape the image data into rows\n",
    "def preprocess(arg_x_test,arg_y_test):\n",
    "    img_rows = 32\n",
    "    img_cols = 32\n",
    "    num_classes = 10\n",
    "    if K.image_data_format() == 'channels_first':\n",
    "        arg_x_test = arg_x_test.reshape(arg_x_test.shape[0], 1, img_rows, img_cols)\n",
    "    else:\n",
    "        arg_x_test = arg_x_test.reshape(arg_x_test.shape[0], img_rows, img_cols, 1)\n",
    "\n",
    "    arg_x_test = arg_x_test.astype('float32')\n",
    "\n",
    "    # Preprocessing: subtract the mean image\n",
    "    test_mean = np.mean(arg_x_test,axis=0)\n",
    "    arg_x_test -= test_mean\n",
    "\n",
    "    # convert class vectors to binary class matrices\n",
    "    arg_y_test = keras.utils.to_categorical(arg_y_test,num_classes)\n",
    "    \n",
    "    return arg_x_test,arg_y_test"
   ]
  },
  {
   "cell_type": "code",
   "execution_count": 5,
   "metadata": {},
   "outputs": [
    {
     "name": "stdout",
     "output_type": "stream",
     "text": [
      "The shapes of one test images are: (32, 32)\n",
      "The shape of the new numpy arrays are (32, 32) (32, 32)\n"
     ]
    },
    {
     "data": {
      "image/png": "[encoded data removed]",
      "text/plain": [
       "<matplotlib.figure.Figure at 0x11d3e62e8>"
      ]
     },
     "metadata": {},
     "output_type": "display_data"
    }
   ],
   "source": [
    "# Test bidirectional transformation: numpy array-->PIL image and PIL image-->numpy array\n",
    "print(\"The shapes of one test images are:\", X_test[0].shape)\n",
    "img_rot = Image.fromarray(X_test[0])\n",
    "img_blur = Image.fromarray(X_test[0]).convert('L')\n",
    "\n",
    "img_rot = img_rot.rotate(180)\n",
    "img_blur = img_blur.filter(ImageFilter.GaussianBlur(radius=3))\n",
    "\n",
    "new_array_rot = np.array(img_rot)\n",
    "new_array_blur = np.array(img_blur)\n",
    "\n",
    "plt.subplot(221)\n",
    "plt.imshow(new_array_rot)\n",
    "plt.subplot(222)\n",
    "plt.imshow(new_array_blur)\n",
    "\n",
    "print(\"The shape of the new numpy arrays are\", new_array_rot.shape,new_array_blur.shape)"
   ]
  },
  {
   "cell_type": "code",
   "execution_count": 6,
   "metadata": {
    "collapsed": true
   },
   "outputs": [],
   "source": [
    "# Build the functionality for batch rotating all images from the test set\n",
    "def rotate_testset(degree):\n",
    "    new_testset = np.zeros((num_test,32,32))\n",
    "    for i in range(num_test):\n",
    "        img = Image.fromarray(X_test[i])\n",
    "        img = img.rotate(degree)\n",
    "        new_testset[i] = np.array(img)\n",
    "    return new_testset  "
   ]
  },
  {
   "cell_type": "code",
   "execution_count": 7,
   "metadata": {},
   "outputs": [
    {
     "name": "stdout",
     "output_type": "stream",
     "text": [
      "(10000, 32, 32)\n"
     ]
    },
    {
     "data": {
      "text/plain": [
       "<matplotlib.image.AxesImage at 0x12239d278>"
      ]
     },
     "execution_count": 7,
     "metadata": {},
     "output_type": "execute_result"
    },
    {
     "data": {
      "image/png": "[encoded data removed]",
      "text/plain": [
       "<matplotlib.figure.Figure at 0x11d523fd0>"
      ]
     },
     "metadata": {},
     "output_type": "display_data"
    }
   ],
   "source": [
    "# Test for batch rotating functionality\n",
    "X_test_ninty = rotate_testset(90)\n",
    "print(X_test_ninty.shape)\n",
    "a = random.randint(0,num_test)\n",
    "plt.imshow(X_test_ninty[a], cmap=plt.get_cmap('gray'))"
   ]
  },
  {
   "cell_type": "code",
   "execution_count": 8,
   "metadata": {
    "collapsed": true
   },
   "outputs": [],
   "source": [
    "# Build the functionality for batch GaussianBlur all images from the test set\n",
    "def gaussianblur_testset(radius):\n",
    "    new_testset = np.zeros((num_test,32,32))\n",
    "    for i in range(num_test):\n",
    "        img = Image.fromarray(X_test[i]).convert('L')\n",
    "        img = img.filter(ImageFilter.GaussianBlur(radius))\n",
    "        new_testset[i] = np.array(img)\n",
    "    return new_testset  "
   ]
  },
  {
   "cell_type": "code",
   "execution_count": 9,
   "metadata": {},
   "outputs": [
    {
     "name": "stdout",
     "output_type": "stream",
     "text": [
      "(10000, 32, 32)\n"
     ]
    },
    {
     "data": {
      "text/plain": [
       "<matplotlib.image.AxesImage at 0x122727f28>"
      ]
     },
     "execution_count": 9,
     "metadata": {},
     "output_type": "execute_result"
    },
    {
     "data": {
      "image/png": "[encoded data removed]",
      "text/plain": [
       "<matplotlib.figure.Figure at 0x11d4b4ac8>"
      ]
     },
     "metadata": {},
     "output_type": "display_data"
    }
   ],
   "source": [
    "# Test for batch GaussianBlur functionality\n",
    "X_test_radius_three = gaussianblur_testset(3)\n",
    "print(X_test_radius_three.shape)\n",
    "a = random.randint(0,num_test)\n",
    "plt.imshow(X_test_radius_three[a], cmap=plt.get_cmap('gray'))"
   ]
  },
  {
   "cell_type": "code",
   "execution_count": 10,
   "metadata": {
    "collapsed": true
   },
   "outputs": [],
   "source": [
    "# Define a model loading function\n",
    "def load_vgg_model():\n",
    "    # load json and create model\n",
    "    json_file = open(vgg_json_loc,\"r\")\n",
    "    loaded_vgg_json = json_file.read()\n",
    "    json_file.close()\n",
    "    loaded_vgg11 = model_from_json(loaded_vgg_json)\n",
    "    # load weights into new model\n",
    "    loaded_vgg11.load_weights(vgg_model_loc)\n",
    "    return loaded_vgg11"
   ]
  },
  {
   "cell_type": "code",
   "execution_count": null,
   "metadata": {},
   "outputs": [],
   "source": [
    "def rotation_vs_acc(rotation_range):\n",
    "    rotation_results = {}\n",
    "    for current_rt in rotation_range:\n",
    "        # TODO: \n",
    "        # 1. Load the pre-trained model \n",
    "        # 2. Generate the corresponding test set and reshape it\n",
    "        # 3. Fit the test set in and get test accuracy\n",
    "        # 4. rotation_results[str(rotation)] = accuracy\n",
    "        model = load_vgg_model()\n",
    "        model.compile(loss='categorical_crossentropy',optimizer='adam',metrics=['accuracy'])\n",
    "        new_X_test = rotate_testset(current_rt)\n",
    "        rs_X_test, rs_Y_test = preprocess(new_X_test, Y_test)\n",
    "        score = model.evaluate(rs_X_test,rs_Y_test,verbose=0)\n",
    "        rotation_results[current_rt] = score[1]*100\n",
    "    return rotation_results\n",
    "\n",
    "def blur_vs_acc(radius_range):\n",
    "    radius_results = {}\n",
    "    for current_rd in radius_range:\n",
    "        # TODO: \n",
    "        # 1. Load the pre-trained model \n",
    "        # 2. Generate the corresponding test set and reshape it\n",
    "        # 3. Fit the test set in and get test accuracy\n",
    "        # 4. rotation_results[str(radius)] = accuracy\n",
    "        model = load_vgg_model()\n",
    "        model.compile(loss='categorical_crossentropy',optimizer='adam',metrics=['accuracy'])\n",
    "        new_X_test = gaussianblur_testset(current_rd)\n",
    "        rs_X_test, rs_Y_test = preprocess(new_X_test, Y_test)\n",
    "        score = model.evaluate(rs_X_test,rs_Y_test,verbose=0)\n",
    "        radius_results[current_rd] = score[1]*100\n",
    "    return radius_results\n",
    "\n",
    "\n",
    "rotation_range = list(range(-45,50,5))\n",
    "radius_range = list(range(7))\n",
    "\n",
    "rotation_results = rotation_vs_acc(rotation_range)\n",
    "radius_results = blur_vs_acc(radius_range)\n",
    "\n",
    "\n",
    "print(\"Rotation results are:\", rotation_results)\n",
    "print(\"\\n\")\n",
    "print(\"Radius results are:\", radius_results)   "
   ]
  },
  {
   "cell_type": "code",
   "execution_count": null,
   "metadata": {},
   "outputs": [],
   "source": [
    "# Plot Rotation/blur vs Test Accuracy\n",
    "rotation_x, rotation_y = zip(*sorted(rotation_results.items()))\n",
    "blur_x, blur_y = zip(*sorted(radius_results.items()))\n",
    "\n",
    "subplot(221)\n",
    "plt.plot(rotation_x,rotation_x)\n",
    "plt.title('Rotation vs Test Accuracy')\n",
    "plt.ylabel('Test Accuracy')\n",
    "plt.xlabel('Rotation Degrees')\n",
    "plt.show()\n",
    "\n",
    "subplot(222)\n",
    "plt.plot(rotation_x,rotation_x)\n",
    "plt.title('Blur vs Test Accuracy')\n",
    "plt.ylabel('Test Accuracy')\n",
    "plt.xlabel('Blur Radius')\n",
    "plt.show()"
   ]
  }
 ],
 "metadata": {
  "kernelspec": {
   "display_name": "Python 3",
   "language": "python",
   "name": "python3"
  },
  "language_info": {
   "codemirror_mode": {
    "name": "ipython",
    "version": 3
   },
   "file_extension": ".py",
   "mimetype": "text/x-python",
   "name": "python",
   "nbconvert_exporter": "python",
   "pygments_lexer": "ipython3",
   "version": "3.6.1"
  }
 },
 "nbformat": 4,
 "nbformat_minor": 2
}
